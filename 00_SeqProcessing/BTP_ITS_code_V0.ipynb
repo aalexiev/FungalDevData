{
 "cells": [
  {
   "cell_type": "raw",
   "metadata": {},
   "source": [
    "# BTP ITS sequence processing"
   ]
  },
  {
   "cell_type": "markdown",
   "metadata": {},
   "source": [
    "This workflow follows one from the Fierer lab, which can be found here:\n",
    "https://github.com/amoliverio/data_processing/blob/master/data_processing_tutorial.md"
   ]
  },
  {
   "cell_type": "code",
   "execution_count": 5,
   "metadata": {},
   "outputs": [
    {
     "data": {
      "text/plain": [
       "'/Users/mckenzielab/Desktop/Alex'"
      ]
     },
     "execution_count": 5,
     "metadata": {},
     "output_type": "execute_result"
    }
   ],
   "source": [
    "pwd"
   ]
  },
  {
   "cell_type": "markdown",
   "metadata": {},
   "source": [
    "## activate qiime environment"
   ]
  },
  {
   "cell_type": "code",
   "execution_count": null,
   "metadata": {
    "collapsed": true
   },
   "outputs": [],
   "source": [
    "macqiime"
   ]
  },
  {
   "cell_type": "markdown",
   "metadata": {},
   "source": [
    "MacQIIME 1.9.1-2015"
   ]
  },
  {
   "cell_type": "code",
   "execution_count": 6,
   "metadata": {},
   "outputs": [
    {
     "name": "stdout",
     "output_type": "stream",
     "text": [
      "Errors and/or warnings detected in mapping file.  Please check the log and html file for details.\r\n"
     ]
    }
   ],
   "source": [
    "!validate_mapping_file.py -m DevelopmentalBorealToad_metadata.txt -o mapcheck/"
   ]
  },
  {
   "cell_type": "code",
   "execution_count": null,
   "metadata": {
    "collapsed": true
   },
   "outputs": [],
   "source": [
    "ssh aalexiev@microbe.colorado.edu"
   ]
  },
  {
   "cell_type": "markdown",
   "metadata": {},
   "source": [
    "### how many instances of the ITS forward primer occur in the sequence file - to determine if I need to cut the adapters off"
   ]
  },
  {
   "cell_type": "code",
   "execution_count": 6,
   "metadata": {},
   "outputs": [
    {
     "ename": "SyntaxError",
     "evalue": "invalid syntax (<ipython-input-6-dbea881ce6e1>, line 1)",
     "output_type": "error",
     "traceback": [
      "\u001b[0;36m  File \u001b[0;32m\"<ipython-input-6-dbea881ce6e1>\"\u001b[0;36m, line \u001b[0;32m1\u001b[0m\n\u001b[0;31m    grep -o 'TTACTTCCTCTAAATGACCAAGCCGTGTAGATCTCGGTGGTCGCCGTATCATT' /Users/mckenzielab/Desktop/Alex/BTP_ITS_seqs/Undetermined_S0_L001_R1_001.fastq | wc -l\u001b[0m\n\u001b[0m                                                                  ^\u001b[0m\n\u001b[0;31mSyntaxError\u001b[0m\u001b[0;31m:\u001b[0m invalid syntax\n"
     ]
    }
   ],
   "source": [
    "grep -o 'TTACTTCCTCTAAATGACCAAGCCGTGTAGATCTCGGTGGTCGCCGTATCATT' \\\n",
    "BTP_ITS_seqs/Undetermined_S0_L001_R1_001.fastq | wc -l\n",
    "#this output on the server was zero"
   ]
  },
  {
   "cell_type": "markdown",
   "metadata": {},
   "source": [
    "# demultiplex sequences (did not find any adapter seqs in seq files)"
   ]
  },
  {
   "cell_type": "code",
   "execution_count": null,
   "metadata": {
    "collapsed": true
   },
   "outputs": [],
   "source": [
    "prep_fastq_for_uparse_paired.py -i BTP_ITS_seqs/Undetermined_S0_L001_R1_001.fastq.gz \\\n",
    "-r BTP_ITS_seqs/Undetermined_S0_L001_R2_001.fastq.gz \\\n",
    "-b BTP_ITS_seqs/Undetermined_S0_L001_I1_001.fastq.gz \\\n",
    "-m DevelopmentalBorealToad_metadata.txt \\\n",
    "-o demultiplexed_seqs \\\n",
    "-c"
   ]
  },
  {
   "cell_type": "raw",
   "metadata": {},
   "source": [
    "Start time: 2018-11-05 15:54:04\n",
    "Seqs processed: 12433969 Percent kept:  75.3%\n",
    "End time: 2018-11-05 16:05:52"
   ]
  },
  {
   "cell_type": "markdown",
   "metadata": {},
   "source": [
    "prep_fastq_for_uparse_paired.py is a python script written by Jonathan Leff (https://github.com/leffj/helper-code-for-uparse/blob/master/prep_fastq_for_uparse_paired.py). It preps raw paired end sequences in the fastq.gz file from the sequencing facility and demultiplexes them for later input into uparse. -i is the sequence reads in fastq format. -r is the reverse reads in fastq format. -b is the barcode/index reads in fastq. -m is the mapping file for the sequences in txt format, with the barcodes in the second column. -o the output file directory where you will get your demultiplexed seqs. -c has the default of FALSE, make TRUE if you need to reverse compliment your sequences before demultiplexing (depends on what primers you used). All these were run on one lane (L001 part of the file name)."
   ]
  },
  {
   "cell_type": "code",
   "execution_count": null,
   "metadata": {
    "collapsed": true
   },
   "outputs": [],
   "source": [
    "#useful code from troubleshooting low demultiplexing number\n",
    "#convert fastq from demultiplexing to fasta\n",
    "#sed -n '1~4s/^@/>/p;2~4p' ../demultiplexed_seqs/demultiplexed_seqs_2.fq > OUTFILE.fasta\n",
    "#compress a file\n",
    "#tar zcvf seqstocompare.tar.gz seqstocompare"
   ]
  },
  {
   "cell_type": "code",
   "execution_count": null,
   "metadata": {
    "collapsed": true
   },
   "outputs": [],
   "source": [
    "grep -c '+' demultiplexed_seqs/demultiplexed_seqs_1.fq\n",
    "#9357573 + 1 = 9357574 total reads across all samples"
   ]
  },
  {
   "cell_type": "markdown",
   "metadata": {},
   "source": [
    "Count all instances of + in the demultiplexed sequence file, which gives you the total reads across all the samples - 1, since the format is SEQ + SEQ + SEQ in the file."
   ]
  },
  {
   "cell_type": "markdown",
   "metadata": {},
   "source": [
    "## Merge paired reads"
   ]
  },
  {
   "cell_type": "code",
   "execution_count": null,
   "metadata": {
    "collapsed": true
   },
   "outputs": [],
   "source": [
    "#download usearch 8, 32 bit version and fix permissions\n",
    "#chmod a+rx /Users/mckenzielab/usearch8\n",
    "#can't use 32 bit version with my large dataset, so going to use Noah Fierer's microbe server, which has usearch 8"
   ]
  },
  {
   "cell_type": "code",
   "execution_count": null,
   "metadata": {
    "collapsed": true
   },
   "outputs": [],
   "source": [
    "usearch8 -fastq_mergepairs demultiplexed_seqs/demultiplexed_seqs_1.fq \\\n",
    "-reverse demultiplexed_seqs/demultiplexed_seqs_2.fq -fastq_minovlen 16 \\\n",
    "-fastq_minmergelen 200 -fastqout demultiplexed_seqs/demultiplexed_seqs_merged.fq -notrunclabels \\\n",
    "-report demultiplexed_seqs/merge_rpt.txt"
   ]
  },
  {
   "cell_type": "markdown",
   "metadata": {},
   "source": [
    "Usearch fastq_mergepairs script merges the sequences and forms a consensus sequence if there is mismatch in the overlap region. The reverse read is reverse complimented so it matches with the forward read when being aligned. -fastq_mergepairs is the forward sequence file; -reverse is the reverse sequence file to be merged (in paired end seq); -fastq_minovlen Discard pair if alignment is shorter than given value. Default 16; -fastq_minmergelen Minimum length for the merged sequence. This gets rid of artifacts (i.e. things that merged that are less than 200 seqs are probably sequencing artifacts like primers binding to each other and whatnot); -fastqout is the output directory; -notrunclabels don't truncate labels (I assume, this was included in the example I got from the Fierer lab but isn't in the current documentation for usearch); -report filepath for report"
   ]
  },
  {
   "cell_type": "markdown",
   "metadata": {},
   "source": [
    "usearch v8.1.1861_i86linux64, 264Gb RAM, 32 cores\n",
    "(C) Copyright 2013-15 Robert C. Edgar, all rights reserved.\n",
    "http://drive5.com/usearch\n",
    "\n",
    "Licensed to: jonathan.leff@colorado.edu"
   ]
  },
  {
   "cell_type": "raw",
   "metadata": {},
   "source": [
    "Merging\n",
    "  Fwd demultiplexed_seqs/demultiplexed_seqs_1.fq\n",
    "  Rev demultiplexed_seqs/demultiplexed_seqs_2.fq\n",
    "  Keep read labels\n",
    "01:26 2.5Gb  100.0% 62.8% merged"
   ]
  },
  {
   "cell_type": "code",
   "execution_count": null,
   "metadata": {
    "collapsed": true
   },
   "outputs": [],
   "source": [
    "less demultiplexed_seqs/merge_rpt.txt\n",
    "q #to escape"
   ]
  },
  {
   "cell_type": "raw",
   "metadata": {},
   "source": [
    "Totals\n",
    "   9357573  Pairs (9.4M)\n",
    "   5879371  Merged (5.9M, 62.83%)\n",
    "   3306587  Alignments with zero diffs (35.34%)\n",
    "   2076837  Too many diffs (> 5) (22.19%)\n",
    "    222263  No alignment found (2.38%)\n",
    "         0  Alignment too short (< 16) (0.00%)\n",
    "   1179102  Merged too short (< 200)\n",
    "   7001118  Staggered pairs (74.82%) merged & trimmed\n",
    "    214.05  Mean alignment length\n",
    "    242.74  Mean merged read length\n",
    "      0.44  Mean fwd expected errors\n",
    "      0.85  Mean rev expected errors\n",
    "      0.12  Mean merged expected errors"
   ]
  },
  {
   "cell_type": "markdown",
   "metadata": {},
   "source": [
    "Lots of \"alignments with zero differences (mismatches)\" - these are things that were great matches. Many had too many differences/mismatches to align."
   ]
  },
  {
   "cell_type": "code",
   "execution_count": null,
   "metadata": {
    "collapsed": true
   },
   "outputs": [],
   "source": [
    "#Trim forward then reverse primer\n",
    "cutadapt -g ^fwd_primer demultiplexed_seqs/demultiplexed_seqs_merged.fq > demultiplexed_seqs_merged_trimmedf.fq\n",
    "cutadapt -a rev_primer demultiplexed_seqs_merged_trimmedf.fq > demultiplexed_seqs_merged_trimmedfr.fq"
   ]
  },
  {
   "cell_type": "markdown",
   "metadata": {},
   "source": [
    "cutadapt cuts off the adapters, although this step wasn't necessary for me because the adapters were trimmed in the previous step with usearch. This is why it says \"trimmed: 0\" in the output here."
   ]
  },
  {
   "cell_type": "markdown",
   "metadata": {},
   "source": [
    "=== Summary ===\n",
    "\n",
    "Total reads processed:               5,879,371\n",
    "Reads with adapters:                         0 (0.0%)\n",
    "Reads written (passing filters):     5,879,371 (100.0%)\n",
    "\n",
    "Total basepairs processed: 1,427,153,452 bp\n",
    "Total written (filtered):  1,427,153,452 bp (100.0%)\n",
    "\n",
    "=== Adapter 1 ===\n",
    "\n",
    "Sequence: FWD_PRIMER; Type: anchored 5'; Length: 10; Trimmed: 0 times."
   ]
  },
  {
   "cell_type": "markdown",
   "metadata": {},
   "source": [
    "=== Summary ===\n",
    "\n",
    "Total reads processed:               5,879,371\n",
    "Reads with adapters:                         0 (0.0%)\n",
    "Reads written (passing filters):     5,879,371 (100.0%)\n",
    "\n",
    "Total basepairs processed: 1,427,153,452 bp\n",
    "Total written (filtered):  1,427,153,452 bp (100.0%)\n",
    "\n",
    "=== Adapter 1 ===\n",
    "\n",
    "Sequence: REV_PRIMER; Type: regular 3'; Length: 10; Trimmed: 0 times."
   ]
  },
  {
   "cell_type": "code",
   "execution_count": null,
   "metadata": {
    "collapsed": true
   },
   "outputs": [],
   "source": [
    "#quality check sequences\n",
    "usearch10 -fastq_eestats2 demultiplexed_seqs/demultiplexed_seqs_merged.fq \\\n",
    "-output demultiplexed_seqs/demultiplexed_seqs_merged_eestats2.log -length_cutoffs 200,300,10\n",
    "less demultiplexed_seqs/demultiplexed_seqs_merged_eestats2.log"
   ]
  },
  {
   "cell_type": "markdown",
   "metadata": {},
   "source": [
    "Shows how many reads will pass an expected error filter at different length thresholds. Use this to determine where the cutoff should be, since I want to keep as many sequences as possible but not all will be useful. -length_cutoffs specifies the shortest length, then longest, and by what increment. Since the region I'm targeting is 230 bp long, the range 200-300 should capture that and all useful variants, and the cutoffs are going by 10. Expected error is calculated using the Phred scores at each bp to find the expected error for the whole read."
   ]
  },
  {
   "cell_type": "raw",
   "metadata": {},
   "source": [
    "usearch v10.0.240_i86linux64, 264Gb RAM, 32 cores\n",
    "(C) Copyright 2013-17 Robert C. Edgar, all rights reserved.\n",
    "http://drive5.com/usearch\n",
    "\n",
    "License: ciresit@colorado.edu, non-profit use, max 1 process(es)\n",
    "\n",
    "00:00 37Mb   CPU has 32 cores, defaulting to 10 threads\n",
    "01:19 736Mb   100.0% Reading reads\n",
    "\n",
    "5879371 reads, max len 486, avg 242.7\n",
    "\n",
    "Length         MaxEE 0.50         MaxEE 1.00         MaxEE 2.00\n",
    "------   ----------------   ----------------   ----------------\n",
    "   200    5790667( 98.5%)    5866964( 99.8%)    5878581(100.0%)\n",
    "   210    4956138( 84.3%)    5028320( 85.5%)    5040689( 85.7%)\n",
    "   220    3138484( 53.4%)    3198497( 54.4%)    3210884( 54.6%)\n",
    "   230    2643097( 45.0%)    2700605( 45.9%)    2713503( 46.2%)\n",
    "   240    2277469( 38.7%)    2333716( 39.7%)    2347310( 39.9%)\n",
    "   250    1576289( 26.8%)    1627880( 27.7%)    1641869( 27.9%)\n",
    "   260     996953( 17.0%)    1095295( 18.6%)    1113649( 18.9%)\n",
    "   270     826171( 14.1%)     963224( 16.4%)     986310( 16.8%)\n",
    "   280     666014( 11.3%)     797058( 13.6%)     823773( 14.0%)\n",
    "   290     555316(  9.4%)     674735( 11.5%)     705191( 12.0%)\n",
    "   300     456780(  7.8%)     556690(  9.5%)     590820( 10.0%)"
   ]
  },
  {
   "cell_type": "code",
   "execution_count": null,
   "metadata": {
    "collapsed": true
   },
   "outputs": [],
   "source": [
    "#quality filtering step\n",
    "usearch10 -fastq_filter demultiplexed_seqs/demultiplexed_seqs_merged.fq \\\n",
    "-fastaout seqs_filt.fa -fastq_maxee 1.0 -fastq_trunclen 210"
   ]
  },
  {
   "cell_type": "markdown",
   "metadata": {},
   "source": [
    "Picked 210 as the length to truncate at because that is where I'd still retain as many sequences as possible without getting too many bad quality reads based on EE. Chose 1% as the max EE score, so the expected error cutoff is 1% of sequence error probability (so at about 200 seqs for my amplicon, maybe 2 nt are wrong). "
   ]
  },
  {
   "cell_type": "raw",
   "metadata": {},
   "source": [
    "usearch v10.0.240_i86linux64, 264Gb RAM, 32 cores\n",
    "(C) Copyright 2013-17 Robert C. Edgar, all rights reserved.\n",
    "http://drive5.com/usearch\n",
    "\n",
    "License: ciresit@colorado.edu, non-profit use, max 1 process(es)\n",
    "\n",
    "00:00 37Mb   CPU has 32 cores, defaulting to 10 threads\n",
    "00:36 702Mb   100.0% Filtering, 85.5% passed\n",
    "   5879371  Reads (5.9M)                    \n",
    "    837708  Discarded reads length < 210\n",
    "     13343  Discarded reads with expected errs > 1.00\n",
    "   5028320  Filtered reads (5.0M, 85.5%)"
   ]
  },
  {
   "cell_type": "code",
   "execution_count": null,
   "metadata": {
    "collapsed": true
   },
   "outputs": [],
   "source": [
    "#dereplicate samples\n",
    "usearch10 -fastx_uniques seqs_filt.fa -fastaout uniques.fa -sizeout -relabel Uniq"
   ]
  },
  {
   "cell_type": "markdown",
   "metadata": {},
   "source": [
    "Derepilcation refers to finding only the unique sequences and using that consensus for finding abundances later."
   ]
  },
  {
   "cell_type": "raw",
   "metadata": {},
   "source": [
    "usearch v10.0.240_i86linux64, 264Gb RAM, 32 cores\n",
    "(C) Copyright 2013-17 Robert C. Edgar, all rights reserved.\n",
    "http://drive5.com/usearch\n",
    "\n",
    "License: ciresit@colorado.edu, non-profit use, max 1 process(es)\n",
    "\n",
    "00:12 2.0Gb   100.0% Reading seqs_filt.fa\n",
    "00:12 2.0Gb  CPU has 32 cores, defaulting to 10 threads\n",
    "00:15 3.2Gb   100.0% DF\n",
    "00:16 3.2Gb  5028320 seqs, 534632 uniques, 302327 singletons (56.5%)\n",
    "00:16 3.2Gb  Min size 1, median 1, max 427460, avg 9.41\n",
    "00:20 3.2Gb   100.0% Writing uniques.fa"
   ]
  },
  {
   "cell_type": "markdown",
   "metadata": {},
   "source": [
    "## Make OTUs, cluster at 97% similarity"
   ]
  },
  {
   "cell_type": "code",
   "execution_count": null,
   "metadata": {
    "collapsed": true
   },
   "outputs": [],
   "source": [
    "#create OTUs\n",
    "usearch10 -cluster_otus uniques.fa -otus rep_set97.fa -relabel 'OTU_'\n",
    "\n",
    "usearch10 -usearch_global rep_set97.fa \\\n",
    "-db UNITE_db_s_7.2/sh_refs_qiime_ver7_97_s_01.12.2017.fasta \\\n",
    "-id 0.75 -strand both -matched rep_set97_filt.fa"
   ]
  },
  {
   "cell_type": "markdown",
   "metadata": {},
   "source": [
    "Cluster_otus creates OTU's de novo. Chimeras are filtered. Unoise3 also removes reads with sequencing error (when identified by the algorithm, some may have slipped through obviously) [see zOTUs in next section]. Usearch_global searches for one hit to the database, in this case I am using UNITE since it is vetted and recommended by a number of fungal genomics papers. -id give the factional identity for matching OTU clusters (or in this case, centroid sequence for the cluster) to the database."
   ]
  },
  {
   "cell_type": "raw",
   "metadata": {},
   "source": [
    "01:45 72Mb    100.0% 7826 OTUs, 1875 chimeras"
   ]
  },
  {
   "cell_type": "raw",
   "metadata": {},
   "source": [
    "usearch v10.0.240_i86linux64, 264Gb RAM, 32 cores\n",
    "(C) Copyright 2013-17 Robert C. Edgar, all rights reserved.\n",
    "http://drive5.com/usearch\n",
    "\n",
    "License: ciresit@colorado.edu, non-profit use, max 1 process(es)\n",
    "\n",
    "00:00 73Mb    100.0% Reading UNITE_db_s_7.2/sh_refs_qiime_ver7_97_s_01.12.2017.fasta\n",
    "00:01 40Mb    100.0% Masking (fastnucleo)                                           \n",
    "00:01 41Mb    100.0% Word stats          \n",
    "00:01 41Mb    100.0% Alloc rows\n",
    "00:03 139Mb   100.0% Build index\n",
    "00:03 173Mb  CPU has 32 cores, defaulting to 10 threads\n",
    "00:17 899Mb   100.0% Searching, 42.6% matched"
   ]
  },
  {
   "cell_type": "code",
   "execution_count": null,
   "metadata": {
    "collapsed": true
   },
   "outputs": [],
   "source": [
    "#map demultiplexed reads to de novo database and build OTU table\n",
    "usearch10 -otutab demultiplexed_seqs/demultiplexed_seqs_merged.fq \\\n",
    "-otus rep_set97_filt.fa -otutabout otutab97.txt -mapout map.txt"
   ]
  },
  {
   "cell_type": "markdown",
   "metadata": {},
   "source": [
    "This command maps the reads back to the OTUs they've been assigned and creates an OTU table from it."
   ]
  },
  {
   "cell_type": "raw",
   "metadata": {},
   "source": [
    "usearch v10.0.240_i86linux64, 264Gb RAM, 32 cores\n",
    "(C) Copyright 2013-17 Robert C. Edgar, all rights reserved.\n",
    "http://drive5.com/usearch\n",
    "\n",
    "License: ciresit@colorado.edu, non-profit use, max 1 process(es)\n",
    "\n",
    "00:00 43Mb    100.0% Reading rep_set97_filt.fa\n",
    "00:00 9.8Mb   100.0% Masking (fastnucleo)     \n",
    "00:00 11Mb    100.0% Word stats          \n",
    "00:00 11Mb    100.0% Alloc rows\n",
    "00:00 13Mb    100.0% Build index\n",
    "00:00 47Mb   CPU has 32 cores, defaulting to 10 threads\n",
    "31:43 758Mb   100.0% Searching demultiplexed_seqs_merged.fq, 61.2% matched\n",
    "3599351 / 5879371 mapped to OTUs (61.2%)                                  \n",
    "31:43 758Mb  Writing otutab97.txt\n",
    "31:43 758Mb  Writing otutab97.txt ...done."
   ]
  },
  {
   "cell_type": "markdown",
   "metadata": {},
   "source": [
    "## Add taxonomy, filter for chloro/mito/rare (artefacts), etc."
   ]
  },
  {
   "cell_type": "code",
   "execution_count": null,
   "metadata": {
    "collapsed": true
   },
   "outputs": [],
   "source": [
    "#add taxonomy\n",
    "biom convert -i otutab97.txt -o otutab97.biom --table-type 'OTU table' --to-json\n",
    "\n",
    "assign_taxonomy.py -m rdp -i rep_set97_filt.fa -o rdp_assigned_taxonomy_otus \\\n",
    "-c 0.5 -r UNITE_db_s_7.2/sh_refs_qiime_ver7_97_s_01.12.2017.fasta \\\n",
    "-t UNITE_db_s_7.2/sh_taxonomy_qiime_ver7_97_s_01.12.2017.txt --rdp_max_memory 10000\n",
    "\n",
    "biom add-metadata -i otutab97.biom --observation-metadata-fp \\\n",
    "rdp_assigned_taxonomy_otus/rep_set97_filt_tax_assignments.txt --sc-separated taxonomy \\\n",
    "--observation-header OTUID,taxonomy -o otutab97filt_wTax.biom\n",
    "\n",
    "#remove chloroplasts and mitochondria\n",
    "filter_taxa_from_otu_table.py \\\n",
    "-i otutab97filt_wTax.biom \\\n",
    "-o otutab_wTax_noChloroMito.biom \\\n",
    "-n c__Chloroplast,f__mitochondria\n",
    "\n",
    "#remove OTU's that only occur once\n",
    "filter_otus_from_otu_table.py \\\n",
    "-i otutab_wTax_noChloroMito.biom \\\n",
    "-o otutab_wTax_noChloroMitoSingl.biom \\\n",
    "-n 2\n",
    "\n",
    "#convert biom table to text\n",
    "biom convert -i otutab_wTax_noChloroMitoSingl.biom \\\n",
    "-o otutab_wTax_noChloroMitoSingl.txt --to-tsv --header-key=taxonomy\n",
    "\n",
    "#otu table stats\n",
    "biom summarize-table -i otutab_wTax_noChloroMitoSingl.txt \\\n",
    "-o otutab_wTax_noChloroMitoSingl_smry.txt\n",
    "less otutab_wTax_noChloroMitoSingl_smry.txt #1030"
   ]
  },
  {
   "cell_type": "markdown",
   "metadata": {},
   "source": [
    "## Make zOTUs for later comparison"
   ]
  },
  {
   "cell_type": "code",
   "execution_count": null,
   "metadata": {
    "collapsed": true
   },
   "outputs": [],
   "source": [
    "#usearch10 -unoise3 uniques.fa -zotus rep_set_zotus.fa -tabbedout unoise3.txt\n",
    "\n",
    "#usearch10 -usearch_global rep_set_zotus.fa \\\n",
    "#-db /db_files/UNITE_files/sh_qiime_release_s_02.03.2015/sh_refs_qiime_ver7_dynamic_s_02.03.2015.fasta \\\n",
    "#-id 0.75 -strand both -matched rep_set_zotus_filt.fa\n",
    "\n",
    "#usearch10 -fastx_relabel rep_set_zotus_filt.fa -prefix 'OTU_' -fastaout rep_set_zotus_filt_relabeled.fa -keep_annots\n",
    "\n",
    "#usearch10 -otutab demultiplexed_seqs/demultiplexed_seqs_merged.fq -zotus rep_set_zotus_filt_relabeled.fa \\\n",
    "#-otutabout zotutab.txt -mapout zmap.txt"
   ]
  },
  {
   "cell_type": "code",
   "execution_count": null,
   "metadata": {
    "collapsed": true
   },
   "outputs": [],
   "source": [
    "#Add taxonomy, etc.\n",
    "\n",
    "#biom convert -i zotutab.txt -o zotutab.biom --table-type 'OTU table' --to-json\n",
    "\n",
    "#assign_taxonomy.py -m rdp -i rep_set_zotus_filt_relabeled.fa -o rdp_assigned_taxonomy_zotus -c 0.5 \\\n",
    "#-t /db_files/UNITE_files/sh_qiime_release_s_02.03.2015/sh_taxonomy_qiime_ver7_97_s_02.03.2015.txt \\\n",
    "#-r /db_files/UNITE_files/sh_qiime_release_s_02.03.2015/sh_refs_qiime_ver7_dynamic_s_02.03.2015.fasta \\\n",
    "#--rdp_max_memory 10000\n",
    "\n",
    "#biom add-metadata -i zotutab.biom --observation-metadata-fp \\\n",
    "#rdp_assigned_taxonomy_zotus/rep_set_zotus_filt_relabeled_tax_assignments.txt --sc-separated taxonomy \\\n",
    "#--observation-header OTUID,taxonomy -o zotutab_wTax.biom\n",
    "\n",
    "#filter_taxa_from_otu_table.py -i zotutab_wTax.biom \\\n",
    "#-o zotutab_wTax_noChloroMito.biom -n c__Chloroplast,f__mitochondria\n",
    "\n",
    "#biom convert -i zotutab_wTax_noChloroMito.biom \\\n",
    "#-o zotutab_wTax_noChloroMito.txt --to-tsv --header-key=taxonomy"
   ]
  },
  {
   "cell_type": "markdown",
   "metadata": {
    "collapsed": true
   },
   "source": [
    "## Beta diversity script to get UniFrac"
   ]
  },
  {
   "cell_type": "code",
   "execution_count": null,
   "metadata": {
    "collapsed": true
   },
   "outputs": [],
   "source": [
    "make_phylogeny.py -i ../rep_set97_filt.fa \\\n",
    "-t fasttree -o 97otus_repicked.tre -l tree_log_file"
   ]
  },
  {
   "cell_type": "code",
   "execution_count": null,
   "metadata": {
    "collapsed": true
   },
   "outputs": [],
   "source": [
    "biom convert -i input2_otu.txt \\\n",
    "-o input2_OUT.biom \\\n",
    "--table-type=\"OTU table\" --to-json"
   ]
  },
  {
   "cell_type": "code",
   "execution_count": null,
   "metadata": {
    "collapsed": true
   },
   "outputs": [],
   "source": [
    "core_diversity_analyses.py -i input2_OUT.biom \\\n",
    "-o fungdiv_UF \\\n",
    "-m ../DevelopmentalBorealToad_metadata.txt \\\n",
    "-t 97otus_repicked.tre \\\n",
    "-e 1030 --recover_from_failure"
   ]
  },
  {
   "cell_type": "code",
   "execution_count": null,
   "metadata": {
    "collapsed": true
   },
   "outputs": [],
   "source": [
    "#move files from microbe server to local machine\n",
    "scp -r aalexiev@microbe.colorado.edu:FungalDevData_V0/BetaDiv ."
   ]
  },
  {
   "cell_type": "markdown",
   "metadata": {},
   "source": [
    "# SourceTracker"
   ]
  },
  {
   "cell_type": "markdown",
   "metadata": {},
   "source": [
    "SourceTracker uses a Gibbs sampler to determine whether a pre-defined source could account for some proportion of the population found in a pre-defined sink. It requires a column in the mapping file called SourceSink that has either \"source\" or \"sink\" for each sample, as well as an Env column. This is being run on my local machine."
   ]
  },
  {
   "cell_type": "code",
   "execution_count": null,
   "metadata": {
    "collapsed": true
   },
   "outputs": [],
   "source": [
    "#WHOLE DATASET FOR LIFEENV FROM R\n",
    "#convert text tables from R into biom tables\n",
    "#had to use nano to add \"#OTU_ids \\t\" to the beginning of the text file\n",
    "source activate st2\n",
    "\n",
    "biom convert -i lifeenv_OTU.txt \\\n",
    "-o lifeenv_OTU.biom \\\n",
    "--table-type=\"OTU table\" --to-json\n",
    "\n",
    "sourcetracker2 gibbs -i lifeenv_OTU.biom \\\n",
    "-m lifeenv_map.txt \\\n",
    "-o SourceTracker_results \\\n",
    "--burnin 100 "
   ]
  },
  {
   "cell_type": "code",
   "execution_count": null,
   "metadata": {
    "collapsed": true
   },
   "outputs": [],
   "source": [
    "#JUST 4 MILE SITE\n",
    "biom convert -i mile_OTU.txt \\\n",
    "-o mile_OTU.biom \\\n",
    "--table-type=\"OTU table\" --to-json\n",
    "\n",
    "sourcetracker2 gibbs -i mile_OTU.biom \\\n",
    "-m mile_map.txt \\\n",
    "-o SourceTracker_fourmile \\\n",
    "--burnin 100"
   ]
  },
  {
   "cell_type": "code",
   "execution_count": null,
   "metadata": {
    "collapsed": true
   },
   "outputs": [],
   "source": [
    "#JUST adult and egg samples\n",
    "biom convert -i adult_egg_OTU.txt \\\n",
    "-o adult_egg_OTU.biom \\\n",
    "--table-type=\"OTU table\" --to-json\n",
    "\n",
    "sourcetracker2 gibbs -i adult_egg_OTU.biom \\\n",
    "-m adult_egg_map.txt \\\n",
    "-o SourceTracker_adult_egg \\\n",
    "--burnin 100"
   ]
  },
  {
   "cell_type": "markdown",
   "metadata": {},
   "source": [
    "# Pick OTU's with \"antifungal amphibian bacteria\" database"
   ]
  },
  {
   "cell_type": "code",
   "execution_count": null,
   "metadata": {
    "collapsed": true
   },
   "outputs": [],
   "source": [
    "#Check how many instances of the bacterial forward primer are in my file\n",
    "cd Bacterial_OTUs\n",
    "\n",
    "grep -o 'ATTAGAWACCCBDGTAGTCCGGCTGACTGACT' \\\n",
    "BTP_HOP_WORM_Miseq/Undetermined_S0_L001_R1_001.fastq.gz | wc -l\n",
    "#this output was zero, so I don't need to trim adapters\n",
    "\n",
    "\n",
    "#demultiplex sequences\n",
    "prep_fastq_for_uparse_paired.py -i BTP_HOP_WORM_Miseq/Undetermined_S0_L001_R1_001.fastq.gz \\\n",
    "-r BTP_HOP_WORM_Miseq/Undetermined_S0_L001_R2_001.fastq.gz \\\n",
    "-b BTP_HOP_WORM_Miseq/Undetermined_S0_L001_I1_001.fastq.gz \\\n",
    "-m BTP_HOP_WORM_Miseq/DevelopmentalBorealToad_16Smetadata.txt \\\n",
    "-o demultiplexed_seqs\n",
    "#This was a mixed run with other projects' data so I don't expect the whole thing to demultiplex\n",
    "#Start time: 2019-07-03 15:25:23\n",
    "#Seqs processed: 14711946 Percent kept:  49.0%\n",
    "#End time: 2019-07-03 15:34:31\n",
    "\n",
    "\n",
    "#merge paired reads then view report\n",
    "usearch8 -fastq_mergepairs demultiplexed_seqs/demultiplexed_seqs_1.fq \\\n",
    "-reverse demultiplexed_seqs/demultiplexed_seqs_2.fq -fastq_minovlen 16 \\\n",
    "-fastq_minmergelen 200 -fastqout demultiplexed_seqs/demultiplexed_seqs_merged.fq -notrunclabels \\\n",
    "-report demultiplexed_seqs/merge_rpt.txt\n",
    "\n",
    "#Merging\n",
    "#  Fwd demultiplexed_seqs/demultiplexed_seqs_1.fq\n",
    "#  Rev demultiplexed_seqs/demultiplexed_seqs_2.fq\n",
    "#  Keep read labels\n",
    "#00:37 2.5Gb  100.0% 75.2% merged\n",
    "\n",
    "less demultiplexed_seqs/merge_rpt.txt\n",
    "q #to escape\n",
    "\n",
    "#Totals\n",
    "#   7214311  Pairs (7.2M)\n",
    "#   5426891  Merged (5.4M, 75.22%)\n",
    "#   3901522  Alignments with zero diffs (54.08%)\n",
    "#   1268481  Too many diffs (> 5) (17.58%)\n",
    "#         0  Fwd tails Q <= 2 trimmed (0.00%)\n",
    "#    134727  Rev tails Q <= 2 trimmed (1.87%)\n",
    "#         0  Fwd too short (< 64) after tail trimming (0.00%)\n",
    "#     33541  Rev too short (< 64) after tail trimming (0.46%)\n",
    "#    471832  No alignment found (6.54%)\n",
    "#         0  Alignment too short (< 16) (0.00%)\n",
    "#     13566  Merged too short (< 200)\n",
    "#      4471  Staggered pairs (0.06%) merged & trimmed\n",
    "#     49.10  Mean alignment length\n",
    "#    252.86  Mean merged read length\n",
    "#      0.29  Mean fwd expected errors\n",
    "#      0.31  Mean rev expected errors\n",
    "#      0.30  Mean merged expected errors\n",
    "\n",
    "#trim forward and reverse primers\n",
    "#Trim forward then reverse primer\n",
    "cutadapt -g ^fwd_primer demultiplexed_seqs/demultiplexed_seqs_merged.fq > demultiplexed_seqs_merged_trimmedf.fq\n",
    "cutadapt -a rev_primer demultiplexed_seqs_merged_trimmedf.fq > demultiplexed_seqs_merged_trimmedfr.fq\n",
    "#trimmed successfully\n",
    "\n",
    "#check seq quality, filter based on this quality info\n",
    "usearch10 -fastq_eestats2 demultiplexed_seqs/demultiplexed_seqs_merged.fq \\\n",
    "-output demultiplexed_seqs/demultiplexed_seqs_merged_eestats2.log -length_cutoffs 200,300,10\n",
    "less demultiplexed_seqs/demultiplexed_seqs_merged_eestats2.log\n",
    "#found that maxee of 1.0 and trunclength of 250 is best\n",
    "usearch10 -fastq_filter demultiplexed_seqs/demultiplexed_seqs_merged.fq \\\n",
    "-fastaout seqs_filt.fa -fastq_maxee 1.0 -fastq_trunclen 250\n",
    "\n",
    "#dereplicate samples\n",
    "usearch10 -fastx_uniques seqs_filt.fa -fastaout uniques.fa -sizeout -relabel Uniq"
   ]
  },
  {
   "cell_type": "code",
   "execution_count": null,
   "metadata": {
    "collapsed": true
   },
   "outputs": [],
   "source": [
    "#pick 97% OTUs using anti-Bd bacteria database file\n",
    "usearch10 -cluster_otus uniques.fa -otus rep_set97.fa -relabel 'OTU_'\n",
    "#04:17 145Mb   100.0% 23892 OTUs, 19962 chimeras\n",
    "\n",
    "usearch10 -usearch_global rep_set97.fa \\\n",
    "-db Bd_inhibitor_database/Amphibian-skin_bacteria_16S_sequences.fna \\\n",
    "-id 0.75 -strand both -matched rep_set97_filt.fa\n",
    "#00:00 37Mb      0.1% Reading Bd_inhibitor_database/Amphibian-skin_bacteria_16S_s00:00 45Mb    100.0% Reading Bd_inhibitor_database/Amphibian-skin_bacteria_16S_sequences.fna\n",
    "#00:00 11Mb      0.1% Masking (fastnucleo)                                       00:00 11Mb    100.0% Masking (fastnucleo)\n",
    "#00:00 12Mb    100.0% Word stats          \n",
    "#00:00 12Mb    100.0% Alloc rows\n",
    "#00:00 20Mb    100.0% Build index\n",
    "#00:00 54Mb   CPU has 32 cores, defaulting to 10 threads\n",
    "#00:09 764Mb   100.0% Searching, 75.9% matched\n",
    "\n",
    "#map demiltiplexed reads to de novo database and build OTU table\n",
    "usearch10 -otutab demultiplexed_seqs/demultiplexed_seqs_merged.fq \\\n",
    "-otus rep_set97_filt.fa -otutabout otutab97.txt -mapout map.txt\n",
    "#00:00 48Mb    100.0% Reading rep_set97_filt.fa\n",
    "#00:00 14Mb    100.0% Masking (fastnucleo)     \n",
    "#00:00 16Mb    100.0% Word stats          \n",
    "#00:00 16Mb    100.0% Alloc rows\n",
    "#00:00 33Mb    100.0% Build index\n",
    "#00:00 66Mb   CPU has 32 cores, defaulting to 10 threads\n",
    "#12:14 777Mb   100.0% Searching demultiplexed_seqs_merged.fq, 87.0% matched\n",
    "#4722892 / 5426891 mapped to OTUs (87.0%)                                  \n",
    "#12:14 777Mb  Writing otutab97.txt\n",
    "#12:14 777Mb  Writing otutab97.txt ...done.\n",
    "\n",
    "#add taxonomy\n",
    "biom convert -i otutab97.txt -o otutab97.biom --table-type 'OTU table' --to-json\n",
    "\n",
    "assign_taxonomy.py -m rdp -i rep_set97_filt.fa -o rdp_assigned_taxonomy_otus \\\n",
    "-c 0.5 -r Bd_inhibitor_database/Amphibian-skin_bacteria_16S_sequences.fna \\\n",
    "-t Bd_inhibitor_database/inhbit_UCLUST.txt --rdp_max_memory 10000\n",
    "\n",
    "biom add-metadata -i otutab97.biom --observation-metadata-fp \\\n",
    "rdp_assigned_taxonomy_otus/rep_set97_filt_tax_assignments.txt --sc-separated taxonomy \\\n",
    "--observation-header OTUID,taxonomy -o otutab97filt_wTax.biom\n",
    "\n",
    "#remove OTU's that only occur once\n",
    "filter_otus_from_otu_table.py \\\n",
    "-i otutab97filt_wTax.biom \\\n",
    "-o otutab97_wTax_noSingl.biom \\\n",
    "-n 2\n",
    "\n",
    "#convert biom table to text\n",
    "biom convert -i otutab97_wTax_noSingl.biom \\\n",
    "-o otutab97_wTax_noSingl.txt --to-tsv --header-key=taxonomy\n",
    "\n",
    "#otu table stats\n",
    "biom summarize-table -i otutab97_wTax_noSingl.txt \\\n",
    "-o otutab97_wTax_noSingl_smry.txt\n",
    "less otutab97_wTax_noSingl_smry.txt #ok to rarefy to 1030 to match fungal data"
   ]
  }
 ],
 "metadata": {
  "kernelspec": {
   "display_name": "Python 3",
   "language": "python",
   "name": "python3"
  },
  "language_info": {
   "codemirror_mode": {
    "name": "ipython",
    "version": 3
   },
   "file_extension": ".py",
   "mimetype": "text/x-python",
   "name": "python",
   "nbconvert_exporter": "python",
   "pygments_lexer": "ipython3",
   "version": "3.6.0"
  }
 },
 "nbformat": 4,
 "nbformat_minor": 1
}
